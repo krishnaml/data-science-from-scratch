{
 "cells": [
  {
   "cell_type": "code",
   "execution_count": 4,
   "metadata": {},
   "outputs": [],
   "source": [
    "from collections import Counter\n",
    "from sm.linear_algebra import distance\n",
    "import math, random\n",
    "import matplotlib.pyplot as plt\n",
    "import numpy as np"
   ]
  },
  {
   "cell_type": "code",
   "execution_count": 6,
   "metadata": {},
   "outputs": [],
   "source": [
    "cnt = Counter()"
   ]
  },
  {
   "cell_type": "code",
   "execution_count": 8,
   "metadata": {},
   "outputs": [],
   "source": [
    "for word in ['red', 'blue', 'red', 'green', 'blue', 'blue']:\n",
    "    cnt[word] += 1"
   ]
  },
  {
   "cell_type": "code",
   "execution_count": 10,
   "metadata": {},
   "outputs": [
    {
     "data": {
      "text/plain": [
       "Counter({'red': 4, 'blue': 6, 'green': 2})"
      ]
     },
     "execution_count": 10,
     "metadata": {},
     "output_type": "execute_result"
    }
   ],
   "source": [
    "cnt"
   ]
  },
  {
   "cell_type": "code",
   "execution_count": 47,
   "metadata": {},
   "outputs": [
    {
     "data": {
      "text/plain": [
       "('blue', 6)"
      ]
     },
     "execution_count": 47,
     "metadata": {},
     "output_type": "execute_result"
    }
   ],
   "source": [
    "cnt.most_common(1)[0]"
   ]
  },
  {
   "cell_type": "code",
   "execution_count": 45,
   "metadata": {},
   "outputs": [],
   "source": [
    "def raw_majority_votes(labels):\n",
    "    votes = Counter(labels)\n",
    "    winner, _ = votes.most_common(1)[0]\n",
    "    return winner"
   ]
  },
  {
   "cell_type": "code",
   "execution_count": 46,
   "metadata": {},
   "outputs": [
    {
     "name": "stdout",
     "output_type": "stream",
     "text": [
      "3\n"
     ]
    }
   ],
   "source": [
    "print(raw_majority_votes(['3','7','8','1','3','4','1','6']))"
   ]
  },
  {
   "cell_type": "code",
   "execution_count": 68,
   "metadata": {},
   "outputs": [],
   "source": [
    "def majority_vote(labels):\n",
    "    \"\"\"assumes that labels are ordered from nearest to farthest\"\"\"\n",
    "    vote_counts = Counter(labels)\n",
    "    winner, winner_count = vote_counts.most_common(1)[0]\n",
    "    num_winners = len([count\n",
    "                       for count in vote_counts.values()\n",
    "                       if count == winner_count])\n",
    "    if num_winners == 1:\n",
    "        return winner                     # unique winner, so return it\n",
    "    else:\n",
    "        return majority_vote(labels[:-1]) # try again without the farthest"
   ]
  },
  {
   "cell_type": "code",
   "execution_count": 69,
   "metadata": {},
   "outputs": [],
   "source": [
    "def knn_classify(k, labeled_points, new_point):\n",
    "    \"\"\"each labeled point should be a pair (point, label)\"\"\"\n",
    "\n",
    "    # order the labeled points from nearest to farthest\n",
    "    by_distance = sorted(labeled_points,\n",
    "                         key=lambda point_label: distance(point_label[0], new_point))\n",
    "\n",
    "    # find the labels for the k closest\n",
    "    k_nearest_labels = [label for _, label in by_distance[:k]]\n",
    "\n",
    "    # and let them vote\n",
    "    return majority_vote(k_nearest_labels)"
   ]
  },
  {
   "cell_type": "code",
   "execution_count": 57,
   "metadata": {},
   "outputs": [],
   "source": [
    "cities = [\n",
    "  (-86.75, 33.5666666666667, \"Python\"),\n",
    "  (-88.25, 30.6833333333333, \"Python\"),\n",
    "  (-112.016666666667, 33.4333333333333, \"Java\"),\n",
    "  (-110.933333333333, 32.1166666666667, \"Java\"),\n",
    "  (-92.2333333333333, 34.7333333333333, \"R\"),\n",
    "  (-121.95, 37.7, \"R\"),\n",
    "  (-118.15, 33.8166666666667, \"Python\"),\n",
    "  (-118.233333333333, 34.05, \"Java\"),\n",
    "  (-122.316666666667, 37.8166666666667, \"R\"),\n",
    "  (-117.6, 34.05, \"Python\"),\n",
    "  (-116.533333333333, 33.8166666666667, \"Python\"),\n",
    "  (-121.5, 38.5166666666667, \"R\"),\n",
    "  (-117.166666666667, 32.7333333333333, \"R\"),\n",
    "  (-122.383333333333, 37.6166666666667, \"R\"),\n",
    "  (-121.933333333333, 37.3666666666667, \"R\"),\n",
    "  (-122.016666666667, 36.9833333333333, \"Python\"),\n",
    "  (-104.716666666667, 38.8166666666667, \"Python\"),\n",
    "  (-104.866666666667, 39.75, \"Python\"),\n",
    "  (-72.65, 41.7333333333333, \"R\"),\n",
    "  (-75.6, 39.6666666666667, \"Python\"),\n",
    "  (-77.0333333333333, 38.85, \"Python\"),\n",
    "  (-80.2666666666667, 25.8, \"Java\"),\n",
    "  (-81.3833333333333, 28.55, \"Java\"),\n",
    "  (-82.5333333333333, 27.9666666666667, \"Java\"),\n",
    "  (-84.4333333333333, 33.65, \"Python\"),\n",
    "  (-116.216666666667, 43.5666666666667, \"Python\"),\n",
    "  (-87.75, 41.7833333333333, \"Java\"),\n",
    "  (-86.2833333333333, 39.7333333333333, \"Java\"),\n",
    "  (-93.65, 41.5333333333333, \"Java\"),\n",
    "  (-97.4166666666667, 37.65, \"Java\"),\n",
    "  (-85.7333333333333, 38.1833333333333, \"Python\"),\n",
    "  (-90.25, 29.9833333333333, \"Java\"),\n",
    "  (-70.3166666666667, 43.65, \"R\"),\n",
    "  (-76.6666666666667, 39.1833333333333, \"R\"),\n",
    "  (-71.0333333333333, 42.3666666666667, \"R\"),\n",
    "  (-72.5333333333333, 42.2, \"R\"),\n",
    "  (-83.0166666666667, 42.4166666666667, \"Python\"),\n",
    "  (-84.6, 42.7833333333333, \"Python\"),\n",
    "  (-93.2166666666667, 44.8833333333333, \"Python\"),\n",
    "  (-90.0833333333333, 32.3166666666667, \"Java\"),\n",
    "  (-94.5833333333333, 39.1166666666667, \"Java\"),\n",
    "  (-90.3833333333333, 38.75, \"Python\"),\n",
    "  (-108.533333333333, 45.8, \"Python\"),\n",
    "  (-95.9, 41.3, \"Python\"),\n",
    "  (-115.166666666667, 36.0833333333333, \"Java\"),\n",
    "  (-71.4333333333333, 42.9333333333333, \"R\"),\n",
    "  (-74.1666666666667, 40.7, \"R\"),\n",
    "  (-106.616666666667, 35.05, \"Python\"),\n",
    "  (-78.7333333333333, 42.9333333333333, \"R\"),\n",
    "  (-73.9666666666667, 40.7833333333333, \"R\"),\n",
    "  (-80.9333333333333, 35.2166666666667, \"Python\"),\n",
    "  (-78.7833333333333, 35.8666666666667, \"Python\"),\n",
    "  (-100.75, 46.7666666666667, \"Java\"),\n",
    "  (-84.5166666666667, 39.15, \"Java\"),\n",
    "  (-81.85, 41.4, \"Java\"),\n",
    "  (-82.8833333333333, 40, \"Java\"),\n",
    "  (-97.6, 35.4, \"Python\"),\n",
    "  (-122.666666666667, 45.5333333333333, \"Python\"),\n",
    "  (-75.25, 39.8833333333333, \"Python\"),\n",
    "  (-80.2166666666667, 40.5, \"Python\"),\n",
    "  (-71.4333333333333, 41.7333333333333, \"R\"),\n",
    "  (-81.1166666666667, 33.95, \"R\"),\n",
    "  (-96.7333333333333, 43.5666666666667, \"Python\"),\n",
    "  (-90, 35.05, \"R\"),\n",
    "  (-86.6833333333333, 36.1166666666667, \"R\"),\n",
    "  (-97.7, 30.3, \"Python\"),\n",
    "  (-96.85, 32.85, \"Java\"),\n",
    "  (-95.35, 29.9666666666667, \"Java\"),\n",
    "  (-98.4666666666667, 29.5333333333333, \"Java\"),\n",
    "  (-111.966666666667, 40.7666666666667, \"Python\"),\n",
    "  (-73.15, 44.4666666666667, \"R\"),\n",
    "  (-77.3333333333333, 37.5, \"Python\"),\n",
    "  (-122.3, 47.5333333333333, \"Python\"),\n",
    "  (-89.3333333333333, 43.1333333333333, \"R\"),\n",
    "  (-104.816666666667, 41.15, \"Java\")\n",
    "];\n"
   ]
  },
  {
   "cell_type": "code",
   "execution_count": 58,
   "metadata": {},
   "outputs": [],
   "source": [
    "cities = [([longitude, latitude], language) for longitude, latitude, language in cities]"
   ]
  },
  {
   "cell_type": "code",
   "execution_count": 61,
   "metadata": {},
   "outputs": [],
   "source": [
    "def plot_state_borders(plt, color='0.8'):\n",
    "    pass"
   ]
  },
  {
   "cell_type": "code",
   "execution_count": 63,
   "metadata": {},
   "outputs": [],
   "source": [
    "def plot_cities():\n",
    "\n",
    "    # key is language, value is pair (longitudes, latitudes)\n",
    "    plots = { \"Java\" : ([], []), \"Python\" : ([], []), \"R\" : ([], []) }\n",
    "\n",
    "    # we want each language to have a different marker and color\n",
    "    markers = { \"Java\" : \"o\", \"Python\" : \"s\", \"R\" : \"^\" }\n",
    "    colors  = { \"Java\" : \"r\", \"Python\" : \"b\", \"R\" : \"g\" }\n",
    "\n",
    "    for (longitude, latitude), language in cities:\n",
    "        plots[language][0].append(longitude)\n",
    "        plots[language][1].append(latitude)\n",
    "\n",
    "    # create a scatter series for each language\n",
    "    for language, (x, y) in plots.items():\n",
    "        plt.scatter(x, y, color=colors[language], marker=markers[language],\n",
    "                          label=language, zorder=10)\n",
    "\n",
    "    plot_state_borders(plt)    # assume we have a function that does this\n",
    "\n",
    "    plt.legend(loc=0)          # let matplotlib choose the location\n",
    "    plt.axis([-130,-60,20,55]) # set the axes\n",
    "    plt.title(\"Favorite Programming Languages\")\n",
    "    plt.show()"
   ]
  },
  {
   "cell_type": "code",
   "execution_count": 66,
   "metadata": {},
   "outputs": [
    {
     "data": {
      "image/png": "[encoded data removed]",
      "text/plain": [
       "<Figure size 432x288 with 1 Axes>"
      ]
     },
     "metadata": {
      "needs_background": "light"
     },
     "output_type": "display_data"
    }
   ],
   "source": [
    "plot_cities()"
   ]
  },
  {
   "cell_type": "code",
   "execution_count": 70,
   "metadata": {},
   "outputs": [
    {
     "name": "stdout",
     "output_type": "stream",
     "text": [
      "1 neighbor[s]: 40 correct out of 75\n",
      "3 neighbor[s]: 44 correct out of 75\n",
      "5 neighbor[s]: 41 correct out of 75\n",
      "7 neighbor[s]: 35 correct out of 75\n"
     ]
    }
   ],
   "source": [
    "    # try several different values for k\n",
    "    for k in [1, 3, 5, 7]:\n",
    "        num_correct = 0\n",
    "\n",
    "        for location, actual_language in cities:\n",
    "\n",
    "            other_cities = [other_city\n",
    "                            for other_city in cities\n",
    "                            if other_city != (location, actual_language)]\n",
    "\n",
    "            predicted_language = knn_classify(k, other_cities, location)\n",
    "\n",
    "            if predicted_language == actual_language:\n",
    "                num_correct += 1\n",
    "\n",
    "        print(k, \"neighbor[s]:\", num_correct, \"correct out of\", len(cities))"
   ]
  },
  {
   "cell_type": "code",
   "execution_count": 72,
   "metadata": {},
   "outputs": [],
   "source": [
    "def classify_and_plot_grid(k=1):\n",
    "    plots = { \"Java\" : ([], []), \"Python\" : ([], []), \"R\" : ([], []) }\n",
    "    markers = { \"Java\" : \"o\", \"Python\" : \"s\", \"R\" : \"^\" }\n",
    "    colors  = { \"Java\" : \"r\", \"Python\" : \"b\", \"R\" : \"g\" }\n",
    "\n",
    "    for longitude in range(-130, -60):\n",
    "        for latitude in range(20, 55):\n",
    "            predicted_language = knn_classify(k, cities, [longitude, latitude])\n",
    "            plots[predicted_language][0].append(longitude)\n",
    "            plots[predicted_language][1].append(latitude)\n",
    "\n",
    "    # create a scatter series for each language\n",
    "    for language, (x, y) in plots.items():\n",
    "        plt.scatter(x, y, color=colors[language], marker=markers[language],\n",
    "                          label=language, zorder=0)\n",
    "\n",
    "    plot_state_borders(plt, color='black')    # assume we have a function that does this\n",
    "\n",
    "    plt.legend(loc=0)          # let matplotlib choose the location\n",
    "    plt.axis([-130,-60,20,55]) # set the axes\n",
    "    plt.title(str(k) + \"-Nearest Neighbor Programming Languages\")\n",
    "    plt.show()"
   ]
  },
  {
   "cell_type": "code",
   "execution_count": 74,
   "metadata": {},
   "outputs": [
    {
     "data": {
      "image/png": "[encoded data removed]",
      "text/plain": [
       "<Figure size 432x288 with 1 Axes>"
      ]
     },
     "metadata": {
      "needs_background": "light"
     },
     "output_type": "display_data"
    }
   ],
   "source": [
    "classify_and_plot_grid()"
   ]
  },
  {
   "cell_type": "code",
   "execution_count": 75,
   "metadata": {},
   "outputs": [
    {
     "data": {
      "image/png": "[encoded data removed]",
      "text/plain": [
       "<Figure size 432x288 with 1 Axes>"
      ]
     },
     "metadata": {
      "needs_background": "light"
     },
     "output_type": "display_data"
    }
   ],
   "source": [
    "classify_and_plot_grid(3)"
   ]
  }
 ],
 "metadata": {
  "celltoolbar": "Raw Cell Format",
  "kernelspec": {
   "display_name": "Python 3",
   "language": "python",
   "name": "python3"
  },
  "language_info": {
   "codemirror_mode": {
    "name": "ipython",
    "version": 3
   },
   "file_extension": ".py",
   "mimetype": "text/x-python",
   "name": "python",
   "nbconvert_exporter": "python",
   "pygments_lexer": "ipython3",
   "version": "3.7.3"
  }
 },
 "nbformat": 4,
 "nbformat_minor": 2
}
